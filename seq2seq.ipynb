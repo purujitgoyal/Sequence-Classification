{
 "cells": [
  {
   "cell_type": "code",
   "execution_count": 1,
   "metadata": {},
   "outputs": [
    {
     "name": "stderr",
     "output_type": "stream",
     "text": [
      "Using TensorFlow backend.\n"
     ]
    }
   ],
   "source": [
    "import numpy as np\n",
    "from keras.datasets import imdb\n",
    "from keras.models import Sequential, Model\n",
    "from keras.layers import Activation, TimeDistributed, Dense, RepeatVector, Embedding\n",
    "from keras.layers.recurrent import LSTM\n",
    "from keras.optimizers import Adam, RMSprop\n",
    "from keras.preprocessing import sequence"
   ]
  },
  {
   "cell_type": "code",
   "execution_count": 2,
   "metadata": {
    "collapsed": true
   },
   "outputs": [],
   "source": [
    "top_words = 5000\n",
    "(X_train, y_train), (X_test, y_test) = imdb.load_data(num_words=top_words)"
   ]
  },
  {
   "cell_type": "code",
   "execution_count": 3,
   "metadata": {},
   "outputs": [
    {
     "data": {
      "text/plain": [
       "(25000,)"
      ]
     },
     "execution_count": 3,
     "metadata": {},
     "output_type": "execute_result"
    }
   ],
   "source": [
    "X_train.shape"
   ]
  },
  {
   "cell_type": "code",
   "execution_count": 4,
   "metadata": {
    "collapsed": true
   },
   "outputs": [],
   "source": [
    "max_len = 500"
   ]
  },
  {
   "cell_type": "code",
   "execution_count": 5,
   "metadata": {
    "collapsed": true
   },
   "outputs": [],
   "source": [
    "X_train = sequence.pad_sequences(X_train, maxlen=max_len)\n",
    "X_test = sequence.pad_sequences(X_test, maxlen=max_len)"
   ]
  },
  {
   "cell_type": "code",
   "execution_count": 6,
   "metadata": {},
   "outputs": [
    {
     "data": {
      "text/plain": [
       "(25000, 500)"
      ]
     },
     "execution_count": 6,
     "metadata": {},
     "output_type": "execute_result"
    }
   ],
   "source": [
    "X_train.shape"
   ]
  },
  {
   "cell_type": "code",
   "execution_count": 14,
   "metadata": {
    "collapsed": true
   },
   "outputs": [],
   "source": [
    "model = Sequential()\n",
    "\n",
    "# Creating encoder network\n",
    "model.add(Embedding(top_words, output_dim=100, input_length=max_len, mask_zero=True))\n",
    "model.add(LSTM(units=1000))\n",
    "model.add(RepeatVector(max_len))\n",
    "\n",
    "# Creating decoder network\n",
    "num_hidden_layers = 3\n",
    "for _ in range(num_hidden_layers):\n",
    "    model.add(LSTM(units=1000, return_sequences=True))\n",
    "model.add(TimeDistributed(Dense(top_words)))\n",
    "model.add(Activation('softmax'))\n",
    "model.compile(loss='categorical_crossentropy', optimizer='rmsprop', metrics=['accuracy'])"
   ]
  },
  {
   "cell_type": "code",
   "execution_count": 8,
   "metadata": {
    "collapsed": true
   },
   "outputs": [],
   "source": [
    "def process_data(word_sentences, max_len, word_to_ix):\n",
    "    # Vectorizing each element in each sequence\n",
    "    sequences = np.zeros((len(word_sentences), max_len, top_words))\n",
    "    for i, sentence in enumerate(word_sentences):\n",
    "        for j, word in enumerate(sentence):\n",
    "            sequences[i, j, word] = 1.\n",
    "    return sequences"
   ]
  },
  {
   "cell_type": "code",
   "execution_count": null,
   "metadata": {},
   "outputs": [],
   "source": [
    "for k in xrange(0, 5):\n",
    "    # Shuffling the training data every epoch to avoid local minima\n",
    "    indices = np.arange(len(X_train))\n",
    "    np.random.shuffle(indices)\n",
    "    X = X_train[indices]\n",
    "    # y = X_train[indices]\n",
    "\n",
    "    # Training 100 sequences at a time\n",
    "    for i in xrange(0, len(X), 100):\n",
    "        if i + 100 >= len(X):\n",
    "            i_end = len(X)\n",
    "        else:\n",
    "            i_end = i + 100\n",
    "        y_sequences = process_data(X[i:i_end], max_len, top_words)\n",
    "        print('[INFO] Training model: epoch {}th {}/{} samples'.format(k, i, len(X)))\n",
    "        model.fit(X[i:i_end], y_sequences, batch_size=100, epochs=1, verbose=2)\n",
    "    model.save_weights('checkpoint_epoch_{}.hdf5'.format(k))"
   ]
  },
  {
   "cell_type": "code",
   "execution_count": 15,
   "metadata": {},
   "outputs": [
    {
     "name": "stdout",
     "output_type": "stream",
     "text": [
      "_________________________________________________________________\n",
      "Layer (type)                 Output Shape              Param #   \n",
      "=================================================================\n",
      "embedding_2_input (InputLaye (None, 500)               0         \n",
      "_________________________________________________________________\n",
      "embedding_2 (Embedding)      (None, 500, 100)          500000    \n",
      "_________________________________________________________________\n",
      "lstm_5 (LSTM)                (None, 1000)              4404000   \n",
      "_________________________________________________________________\n",
      "dense_11 (Dense)             (None, 500)               500500    \n",
      "_________________________________________________________________\n",
      "dense_12 (Dense)             (None, 200)               100200    \n",
      "_________________________________________________________________\n",
      "dense_13 (Dense)             (None, 1)                 201       \n",
      "=================================================================\n",
      "Total params: 5,504,901\n",
      "Trainable params: 5,504,901\n",
      "Non-trainable params: 0\n",
      "_________________________________________________________________\n",
      "None\n"
     ]
    }
   ],
   "source": [
    "fc1 = Dense(500, activation='relu')(model.layers[1].output)\n",
    "fc2 = Dense(200, activation='relu')(fc1)\n",
    "output = Dense(1, activation='sigmoid')(fc2)\n",
    "im_model = Model(inputs=model.input, outputs=output)\n",
    "\n",
    "print(im_model.summary())"
   ]
  },
  {
   "cell_type": "code",
   "execution_count": 16,
   "metadata": {
    "collapsed": true
   },
   "outputs": [],
   "source": [
    "im_model.compile(loss='binary_crossentropy', optimizer='adam', metrics=['accuracy'])"
   ]
  },
  {
   "cell_type": "code",
   "execution_count": null,
   "metadata": {
    "collapsed": true
   },
   "outputs": [],
   "source": [
    "for k in xrange(0, 5):\n",
    "    # Shuffling the training data every epoch to avoid local minima\n",
    "    indices = np.arange(len(X_train))\n",
    "    np.random.shuffle(indices)\n",
    "    X = X_train[indices]\n",
    "    y = y_train[indices]\n",
    "\n",
    "    # Training 100 sequences at a time\n",
    "    for i in xrange(0, len(X), 1000):\n",
    "        if i + 1000 >= len(X):\n",
    "            i_end = len(X)\n",
    "        else:\n",
    "            i_end = i + 1000\n",
    "        print('[INFO] Training model: epoch {}th {}/{} samples'.format(k, i, len(X)))\n",
    "        im_model.fit(X[i:i_end], y[i:i_end, batch_size=100, epochs=1, verbose=2)\n",
    "    im_model.save_weights('im_checkpoint_epoch_{}.hdf5'.format(k))"
   ]
  },
  {
   "cell_type": "code",
   "execution_count": null,
   "metadata": {
    "collapsed": true
   },
   "outputs": [],
   "source": []
  }
 ],
 "metadata": {
  "kernelspec": {
   "display_name": "Python 2",
   "language": "python",
   "name": "python2"
  },
  "language_info": {
   "codemirror_mode": {
    "name": "ipython",
    "version": 2
   },
   "file_extension": ".py",
   "mimetype": "text/x-python",
   "name": "python",
   "nbconvert_exporter": "python",
   "pygments_lexer": "ipython2",
   "version": "2.7.13"
  }
 },
 "nbformat": 4,
 "nbformat_minor": 2
}
